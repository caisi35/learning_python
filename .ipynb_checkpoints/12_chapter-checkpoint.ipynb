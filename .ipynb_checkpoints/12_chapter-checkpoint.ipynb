{
 "cells": [
  {
   "cell_type": "code",
   "execution_count": 1,
   "id": "progressive-declaration",
   "metadata": {},
   "outputs": [
    {
     "data": {
      "text/plain": [
       "{'one': 1}"
      ]
     },
     "execution_count": 1,
     "metadata": {},
     "output_type": "execute_result"
    }
   ],
   "source": [
    "class DoppelDict(dict):\n",
    "    def __setitem__(self, key, value):\n",
    "        super().__setitem__(key, [value] * 2)\n",
    "        \n",
    "dd = DoppelDict(one=1)\n",
    "dd\n"
   ]
  },
  {
   "cell_type": "code",
   "execution_count": 2,
   "id": "thirty-dover",
   "metadata": {},
   "outputs": [],
   "source": [
    "dd['two'] = 2"
   ]
  },
  {
   "cell_type": "code",
   "execution_count": 3,
   "id": "rolled-environment",
   "metadata": {},
   "outputs": [
    {
     "data": {
      "text/plain": [
       "{'one': 1, 'two': [2, 2]}"
      ]
     },
     "execution_count": 3,
     "metadata": {},
     "output_type": "execute_result"
    }
   ],
   "source": [
    "dd"
   ]
  },
  {
   "cell_type": "code",
   "execution_count": 4,
   "id": "classified-connection",
   "metadata": {},
   "outputs": [],
   "source": [
    "dd.update(three=3)"
   ]
  },
  {
   "cell_type": "code",
   "execution_count": 5,
   "id": "architectural-panel",
   "metadata": {},
   "outputs": [
    {
     "data": {
      "text/plain": [
       "{'one': 1, 'two': [2, 2], 'three': 3}"
      ]
     },
     "execution_count": 5,
     "metadata": {},
     "output_type": "execute_result"
    }
   ],
   "source": [
    "dd"
   ]
  },
  {
   "cell_type": "code",
   "execution_count": 6,
   "id": "italian-bradley",
   "metadata": {},
   "outputs": [
    {
     "data": {
      "text/plain": [
       "{'a': 42}"
      ]
     },
     "execution_count": 6,
     "metadata": {},
     "output_type": "execute_result"
    }
   ],
   "source": [
    "class AnswerDict(dict):\n",
    "    def __getitem__(self, key):\n",
    "        return 42\n",
    "    \n",
    "ad = AnswerDict(a='foo')\n",
    "ad"
   ]
  },
  {
   "cell_type": "code",
   "execution_count": 7,
   "id": "natural-catch",
   "metadata": {},
   "outputs": [
    {
     "data": {
      "text/plain": [
       "{'a': 'foo'}"
      ]
     },
     "execution_count": 7,
     "metadata": {},
     "output_type": "execute_result"
    }
   ],
   "source": [
    "d = {}\n",
    "d.update(ad)\n",
    "d"
   ]
  },
  {
   "cell_type": "code",
   "execution_count": 9,
   "id": "endangered-colony",
   "metadata": {},
   "outputs": [
    {
     "data": {
      "text/plain": [
       "{'one': [1, 1]}"
      ]
     },
     "execution_count": 9,
     "metadata": {},
     "output_type": "execute_result"
    }
   ],
   "source": [
    "import collections\n",
    "\n",
    "class DoppelDict2(collections.UserDict):\n",
    "    def __setitem__(self, key, value):\n",
    "        super().__setitem__(key, [value] * 2)\n",
    "        \n",
    "dd = DoppelDict2(one=1)\n",
    "dd"
   ]
  },
  {
   "cell_type": "code",
   "execution_count": 10,
   "id": "laughing-accuracy",
   "metadata": {},
   "outputs": [
    {
     "data": {
      "text/plain": [
       "{'one': [1, 1], 'two': [2, 2]}"
      ]
     },
     "execution_count": 10,
     "metadata": {},
     "output_type": "execute_result"
    }
   ],
   "source": [
    "dd['two'] = 2\n",
    "dd"
   ]
  },
  {
   "cell_type": "code",
   "execution_count": 11,
   "id": "alternate-resort",
   "metadata": {},
   "outputs": [
    {
     "data": {
      "text/plain": [
       "{'one': [1, 1], 'two': [2, 2], 'three': [3, 3]}"
      ]
     },
     "execution_count": 11,
     "metadata": {},
     "output_type": "execute_result"
    }
   ],
   "source": [
    "dd.update(three=3)\n",
    "dd"
   ]
  },
  {
   "cell_type": "code",
   "execution_count": 12,
   "id": "helpful-queensland",
   "metadata": {},
   "outputs": [
    {
     "data": {
      "text/plain": [
       "{'a': 'foo'}"
      ]
     },
     "execution_count": 12,
     "metadata": {},
     "output_type": "execute_result"
    }
   ],
   "source": [
    "class AnswerDict2(collections.UserDict):\n",
    "    def __getitem__(self, key):\n",
    "        return 42\n",
    "    \n",
    "ad = AnswerDict2(a='foo')\n",
    "ad"
   ]
  },
  {
   "cell_type": "code",
   "execution_count": 13,
   "id": "italian-story",
   "metadata": {},
   "outputs": [
    {
     "data": {
      "text/plain": [
       "42"
      ]
     },
     "execution_count": 13,
     "metadata": {},
     "output_type": "execute_result"
    }
   ],
   "source": [
    "ad['a']"
   ]
  },
  {
   "cell_type": "code",
   "execution_count": 14,
   "id": "eastern-garden",
   "metadata": {},
   "outputs": [
    {
     "data": {
      "text/plain": [
       "{'a': 42}"
      ]
     },
     "execution_count": 14,
     "metadata": {},
     "output_type": "execute_result"
    }
   ],
   "source": [
    "d = {}\n",
    "d.update(ad)\n",
    "d"
   ]
  },
  {
   "cell_type": "code",
   "execution_count": 15,
   "id": "driving-palace",
   "metadata": {},
   "outputs": [
    {
     "data": {
      "text/plain": [
       "42"
      ]
     },
     "execution_count": 15,
     "metadata": {},
     "output_type": "execute_result"
    }
   ],
   "source": [
    "d['a']"
   ]
  },
  {
   "cell_type": "code",
   "execution_count": 1,
   "id": "private-equilibrium",
   "metadata": {},
   "outputs": [],
   "source": [
    "class A:\n",
    "    def ping(self):\n",
    "        print('ping:', self)\n",
    "        \n",
    "class B(A):\n",
    "    def pong(self):\n",
    "        print('pong:', self)\n",
    "        \n",
    "class C(A):\n",
    "    def pong(self):\n",
    "        print('PONG:', self)\n",
    "        \n",
    "class D(B, C):\n",
    "    def ping(self):\n",
    "        super().ping()\n",
    "        print('post-ping:', self)\n",
    "        \n",
    "    def pingpong(self):\n",
    "        self.ping()\n",
    "        super().ping()\n",
    "        self.pong()\n",
    "        super().pong()\n",
    "        C.pong(self)\n",
    "        \n",
    "    "
   ]
  },
  {
   "cell_type": "code",
   "execution_count": 2,
   "id": "confidential-coral",
   "metadata": {},
   "outputs": [
    {
     "name": "stdout",
     "output_type": "stream",
     "text": [
      "pong: <__main__.D object at 0x00000231C8BDA080>\n"
     ]
    }
   ],
   "source": [
    "d = D()\n",
    "d.pong()"
   ]
  },
  {
   "cell_type": "code",
   "execution_count": 3,
   "id": "expressed-estonia",
   "metadata": {},
   "outputs": [
    {
     "name": "stdout",
     "output_type": "stream",
     "text": [
      "PONG: <__main__.D object at 0x00000231C8BDA080>\n"
     ]
    }
   ],
   "source": [
    "C.pong(d)"
   ]
  },
  {
   "cell_type": "code",
   "execution_count": 4,
   "id": "super-accommodation",
   "metadata": {},
   "outputs": [
    {
     "data": {
      "text/plain": [
       "(__main__.D, __main__.B, __main__.C, __main__.A, object)"
      ]
     },
     "execution_count": 4,
     "metadata": {},
     "output_type": "execute_result"
    }
   ],
   "source": [
    "D.__mro__"
   ]
  },
  {
   "cell_type": "code",
   "execution_count": 5,
   "id": "spoken-edwards",
   "metadata": {},
   "outputs": [
    {
     "name": "stdout",
     "output_type": "stream",
     "text": [
      "ping: <__main__.D object at 0x00000231C8BDA9B0>\n",
      "post-ping: <__main__.D object at 0x00000231C8BDA9B0>\n"
     ]
    }
   ],
   "source": [
    "d = D()\n",
    "d.ping()"
   ]
  },
  {
   "cell_type": "code",
   "execution_count": 6,
   "id": "forbidden-meeting",
   "metadata": {},
   "outputs": [
    {
     "name": "stdout",
     "output_type": "stream",
     "text": [
      "ping: <__main__.D object at 0x00000231C8BDA9B0>\n",
      "post-ping: <__main__.D object at 0x00000231C8BDA9B0>\n",
      "ping: <__main__.D object at 0x00000231C8BDA9B0>\n",
      "pong: <__main__.D object at 0x00000231C8BDA9B0>\n",
      "pong: <__main__.D object at 0x00000231C8BDA9B0>\n",
      "PONG: <__main__.D object at 0x00000231C8BDA9B0>\n"
     ]
    }
   ],
   "source": [
    "d.pingpong()"
   ]
  },
  {
   "cell_type": "code",
   "execution_count": 7,
   "id": "surprised-booth",
   "metadata": {},
   "outputs": [
    {
     "data": {
      "text/plain": [
       "(bool, int, object)"
      ]
     },
     "execution_count": 7,
     "metadata": {},
     "output_type": "execute_result"
    }
   ],
   "source": [
    "bool.__mro__"
   ]
  },
  {
   "cell_type": "code",
   "execution_count": 8,
   "id": "editorial-sustainability",
   "metadata": {},
   "outputs": [
    {
     "name": "stdout",
     "output_type": "stream",
     "text": [
      "bool, int, object\n"
     ]
    }
   ],
   "source": [
    "def print_mro(cls):\n",
    "    print(', '.join(c.__name__ for c in cls.__mro__))\n",
    "    \n",
    "print_mro(bool)"
   ]
  },
  {
   "cell_type": "code",
   "execution_count": 9,
   "id": "worth-reserve",
   "metadata": {},
   "outputs": [
    {
     "name": "stdout",
     "output_type": "stream",
     "text": [
      "Integral, Rational, Real, Complex, Number, object\n"
     ]
    }
   ],
   "source": [
    "import numbers\n",
    "print_mro(numbers.Integral)"
   ]
  },
  {
   "cell_type": "code",
   "execution_count": 10,
   "id": "olympic-cross",
   "metadata": {},
   "outputs": [
    {
     "name": "stdout",
     "output_type": "stream",
     "text": [
      "BytesIO, _BufferedIOBase, _IOBase, object\n"
     ]
    }
   ],
   "source": [
    "import io\n",
    "print_mro(io.BytesIO)"
   ]
  },
  {
   "cell_type": "code",
   "execution_count": 11,
   "id": "dress-effects",
   "metadata": {},
   "outputs": [
    {
     "name": "stdout",
     "output_type": "stream",
     "text": [
      "TextIOWrapper, _TextIOBase, _IOBase, object\n"
     ]
    }
   ],
   "source": [
    "print_mro(io.TextIOWrapper)"
   ]
  },
  {
   "cell_type": "code",
   "execution_count": 13,
   "id": "addressed-process",
   "metadata": {},
   "outputs": [
    {
     "name": "stdout",
     "output_type": "stream",
     "text": [
      "Text, Widget, BaseWidget, Misc, Pack, Place, Grid, XView, YView, object\n"
     ]
    }
   ],
   "source": [
    "import tkinter\n",
    "print_mro(tkinter.Text)"
   ]
  },
  {
   "cell_type": "code",
   "execution_count": 16,
   "id": "alternate-avatar",
   "metadata": {},
   "outputs": [
    {
     "ename": "AttributeError",
     "evalue": "module 'collections.abc' has no attribute '__mro__'",
     "output_type": "error",
     "traceback": [
      "\u001b[1;31m---------------------------------------------------------------------------\u001b[0m",
      "\u001b[1;31mAttributeError\u001b[0m                            Traceback (most recent call last)",
      "\u001b[1;32m<ipython-input-16-9585ad42b0f5>\u001b[0m in \u001b[0;36m<module>\u001b[1;34m\u001b[0m\n\u001b[0;32m      1\u001b[0m \u001b[1;32mfrom\u001b[0m \u001b[0mcollections\u001b[0m \u001b[1;32mimport\u001b[0m \u001b[0mabc\u001b[0m\u001b[1;33m\u001b[0m\u001b[1;33m\u001b[0m\u001b[0m\n\u001b[1;32m----> 2\u001b[1;33m \u001b[0mprint_mro\u001b[0m\u001b[1;33m(\u001b[0m\u001b[0mabc\u001b[0m\u001b[1;33m)\u001b[0m\u001b[1;33m\u001b[0m\u001b[1;33m\u001b[0m\u001b[0m\n\u001b[0m",
      "\u001b[1;32m<ipython-input-8-2c07f23cd267>\u001b[0m in \u001b[0;36mprint_mro\u001b[1;34m(cls)\u001b[0m\n\u001b[0;32m      1\u001b[0m \u001b[1;32mdef\u001b[0m \u001b[0mprint_mro\u001b[0m\u001b[1;33m(\u001b[0m\u001b[0mcls\u001b[0m\u001b[1;33m)\u001b[0m\u001b[1;33m:\u001b[0m\u001b[1;33m\u001b[0m\u001b[1;33m\u001b[0m\u001b[0m\n\u001b[1;32m----> 2\u001b[1;33m     \u001b[0mprint\u001b[0m\u001b[1;33m(\u001b[0m\u001b[1;34m', '\u001b[0m\u001b[1;33m.\u001b[0m\u001b[0mjoin\u001b[0m\u001b[1;33m(\u001b[0m\u001b[0mc\u001b[0m\u001b[1;33m.\u001b[0m\u001b[0m__name__\u001b[0m \u001b[1;32mfor\u001b[0m \u001b[0mc\u001b[0m \u001b[1;32min\u001b[0m \u001b[0mcls\u001b[0m\u001b[1;33m.\u001b[0m\u001b[0m__mro__\u001b[0m\u001b[1;33m)\u001b[0m\u001b[1;33m)\u001b[0m\u001b[1;33m\u001b[0m\u001b[1;33m\u001b[0m\u001b[0m\n\u001b[0m\u001b[0;32m      3\u001b[0m \u001b[1;33m\u001b[0m\u001b[0m\n\u001b[0;32m      4\u001b[0m \u001b[0mprint_mro\u001b[0m\u001b[1;33m(\u001b[0m\u001b[0mbool\u001b[0m\u001b[1;33m)\u001b[0m\u001b[1;33m\u001b[0m\u001b[1;33m\u001b[0m\u001b[0m\n",
      "\u001b[1;31mAttributeError\u001b[0m: module 'collections.abc' has no attribute '__mro__'"
     ]
    }
   ],
   "source": []
  },
  {
   "cell_type": "code",
   "execution_count": 17,
   "id": "novel-scholar",
   "metadata": {},
   "outputs": [
    {
     "name": "stdout",
     "output_type": "stream",
     "text": [
      "Toplevel, BaseWidget, Misc, Wm, object\n"
     ]
    }
   ],
   "source": [
    "print_mro(tkinter.Toplevel)"
   ]
  },
  {
   "cell_type": "code",
   "execution_count": 18,
   "id": "olive-mother",
   "metadata": {},
   "outputs": [
    {
     "name": "stdout",
     "output_type": "stream",
     "text": [
      "Widget, BaseWidget, Misc, Pack, Place, Grid, object\n"
     ]
    }
   ],
   "source": [
    "print_mro(tkinter.Widget)"
   ]
  },
  {
   "cell_type": "code",
   "execution_count": 19,
   "id": "sound-money",
   "metadata": {},
   "outputs": [
    {
     "name": "stdout",
     "output_type": "stream",
     "text": [
      "Button, Widget, BaseWidget, Misc, Pack, Place, Grid, object\n"
     ]
    }
   ],
   "source": [
    "print_mro(tkinter.Button)"
   ]
  },
  {
   "cell_type": "code",
   "execution_count": 20,
   "id": "welcome-cannon",
   "metadata": {
    "collapsed": true
   },
   "outputs": [
    {
     "data": {
      "text/plain": [
       "['_Misc__winfo_getint',\n",
       " '_Misc__winfo_parseitem',\n",
       " '__class__',\n",
       " '__delattr__',\n",
       " '__dict__',\n",
       " '__dir__',\n",
       " '__doc__',\n",
       " '__eq__',\n",
       " '__format__',\n",
       " '__ge__',\n",
       " '__getattribute__',\n",
       " '__getitem__',\n",
       " '__gt__',\n",
       " '__hash__',\n",
       " '__init__',\n",
       " '__init_subclass__',\n",
       " '__le__',\n",
       " '__lt__',\n",
       " '__module__',\n",
       " '__ne__',\n",
       " '__new__',\n",
       " '__reduce__',\n",
       " '__reduce_ex__',\n",
       " '__repr__',\n",
       " '__setattr__',\n",
       " '__setitem__',\n",
       " '__sizeof__',\n",
       " '__str__',\n",
       " '__subclasshook__',\n",
       " '__weakref__',\n",
       " '_bind',\n",
       " '_configure',\n",
       " '_displayof',\n",
       " '_do',\n",
       " '_getboolean',\n",
       " '_getconfigure',\n",
       " '_getconfigure1',\n",
       " '_getdoubles',\n",
       " '_getints',\n",
       " '_grid_configure',\n",
       " '_gridconvvalue',\n",
       " '_last_child_ids',\n",
       " '_nametowidget',\n",
       " '_noarg_',\n",
       " '_options',\n",
       " '_register',\n",
       " '_report_exception',\n",
       " '_root',\n",
       " '_setup',\n",
       " '_subst_format',\n",
       " '_subst_format_str',\n",
       " '_substitute',\n",
       " '_tclCommands',\n",
       " '_windowingsystem',\n",
       " 'after',\n",
       " 'after_cancel',\n",
       " 'after_idle',\n",
       " 'anchor',\n",
       " 'bbox',\n",
       " 'bell',\n",
       " 'bind',\n",
       " 'bind_all',\n",
       " 'bind_class',\n",
       " 'bindtags',\n",
       " 'cget',\n",
       " 'clipboard_append',\n",
       " 'clipboard_clear',\n",
       " 'clipboard_get',\n",
       " 'columnconfigure',\n",
       " 'config',\n",
       " 'configure',\n",
       " 'deletecommand',\n",
       " 'destroy',\n",
       " 'event_add',\n",
       " 'event_delete',\n",
       " 'event_generate',\n",
       " 'event_info',\n",
       " 'flash',\n",
       " 'focus',\n",
       " 'focus_displayof',\n",
       " 'focus_force',\n",
       " 'focus_get',\n",
       " 'focus_lastfor',\n",
       " 'focus_set',\n",
       " 'forget',\n",
       " 'getboolean',\n",
       " 'getdouble',\n",
       " 'getint',\n",
       " 'getvar',\n",
       " 'grab_current',\n",
       " 'grab_release',\n",
       " 'grab_set',\n",
       " 'grab_set_global',\n",
       " 'grab_status',\n",
       " 'grid',\n",
       " 'grid_anchor',\n",
       " 'grid_bbox',\n",
       " 'grid_columnconfigure',\n",
       " 'grid_configure',\n",
       " 'grid_forget',\n",
       " 'grid_info',\n",
       " 'grid_location',\n",
       " 'grid_propagate',\n",
       " 'grid_remove',\n",
       " 'grid_rowconfigure',\n",
       " 'grid_size',\n",
       " 'grid_slaves',\n",
       " 'image_names',\n",
       " 'image_types',\n",
       " 'info',\n",
       " 'invoke',\n",
       " 'keys',\n",
       " 'lift',\n",
       " 'location',\n",
       " 'lower',\n",
       " 'mainloop',\n",
       " 'nametowidget',\n",
       " 'option_add',\n",
       " 'option_clear',\n",
       " 'option_get',\n",
       " 'option_readfile',\n",
       " 'pack',\n",
       " 'pack_configure',\n",
       " 'pack_forget',\n",
       " 'pack_info',\n",
       " 'pack_propagate',\n",
       " 'pack_slaves',\n",
       " 'place',\n",
       " 'place_configure',\n",
       " 'place_forget',\n",
       " 'place_info',\n",
       " 'place_slaves',\n",
       " 'propagate',\n",
       " 'quit',\n",
       " 'register',\n",
       " 'rowconfigure',\n",
       " 'selection_clear',\n",
       " 'selection_get',\n",
       " 'selection_handle',\n",
       " 'selection_own',\n",
       " 'selection_own_get',\n",
       " 'send',\n",
       " 'setvar',\n",
       " 'size',\n",
       " 'slaves',\n",
       " 'tk_bisque',\n",
       " 'tk_focusFollowsMouse',\n",
       " 'tk_focusNext',\n",
       " 'tk_focusPrev',\n",
       " 'tk_setPalette',\n",
       " 'tk_strictMotif',\n",
       " 'tkraise',\n",
       " 'unbind',\n",
       " 'unbind_all',\n",
       " 'unbind_class',\n",
       " 'update',\n",
       " 'update_idletasks',\n",
       " 'wait_variable',\n",
       " 'wait_visibility',\n",
       " 'wait_window',\n",
       " 'waitvar',\n",
       " 'winfo_atom',\n",
       " 'winfo_atomname',\n",
       " 'winfo_cells',\n",
       " 'winfo_children',\n",
       " 'winfo_class',\n",
       " 'winfo_colormapfull',\n",
       " 'winfo_containing',\n",
       " 'winfo_depth',\n",
       " 'winfo_exists',\n",
       " 'winfo_fpixels',\n",
       " 'winfo_geometry',\n",
       " 'winfo_height',\n",
       " 'winfo_id',\n",
       " 'winfo_interps',\n",
       " 'winfo_ismapped',\n",
       " 'winfo_manager',\n",
       " 'winfo_name',\n",
       " 'winfo_parent',\n",
       " 'winfo_pathname',\n",
       " 'winfo_pixels',\n",
       " 'winfo_pointerx',\n",
       " 'winfo_pointerxy',\n",
       " 'winfo_pointery',\n",
       " 'winfo_reqheight',\n",
       " 'winfo_reqwidth',\n",
       " 'winfo_rgb',\n",
       " 'winfo_rootx',\n",
       " 'winfo_rooty',\n",
       " 'winfo_screen',\n",
       " 'winfo_screencells',\n",
       " 'winfo_screendepth',\n",
       " 'winfo_screenheight',\n",
       " 'winfo_screenmmheight',\n",
       " 'winfo_screenmmwidth',\n",
       " 'winfo_screenvisual',\n",
       " 'winfo_screenwidth',\n",
       " 'winfo_server',\n",
       " 'winfo_toplevel',\n",
       " 'winfo_viewable',\n",
       " 'winfo_visual',\n",
       " 'winfo_visualid',\n",
       " 'winfo_visualsavailable',\n",
       " 'winfo_vrootheight',\n",
       " 'winfo_vrootwidth',\n",
       " 'winfo_vrootx',\n",
       " 'winfo_vrooty',\n",
       " 'winfo_width',\n",
       " 'winfo_x',\n",
       " 'winfo_y']"
      ]
     },
     "execution_count": 20,
     "metadata": {},
     "output_type": "execute_result"
    }
   ],
   "source": [
    "dir(tkinter.Button)"
   ]
  },
  {
   "cell_type": "code",
   "execution_count": null,
   "id": "sudden-disease",
   "metadata": {},
   "outputs": [],
   "source": []
  },
  {
   "cell_type": "markdown",
   "id": "freelance-mayor",
   "metadata": {},
   "source": [
    "## 多重继承和方法解析顺序\n",
    "\n",
    "```python\n",
    "class A:\n",
    "    def ping(self):\n",
    "        print('ping:', self)\n",
    "        \n",
    "class B(A):\n",
    "    def pong(self):\n",
    "        print('pong:', self)\n",
    "        \n",
    "class C(A):\n",
    "    def pong(self):\n",
    "        print('PONG:', self)\n",
    "        \n",
    "class D(B, C):\n",
    "    def ping(self):\n",
    "        super().ping()\n",
    "        print('post-ping:', self)\n",
    "        \n",
    "    def pingpong(self):\n",
    "        self.ping()\n",
    "        super().ping()\n",
    "        self.pong()\n",
    "        super().pong()\n",
    "        # 直接在类上调用实例方法时，必须显示传入self参数\n",
    "        C.pong(self)\n",
    "\n",
    "d = D()\n",
    "d.pingpong()\n",
    "        \n",
    "```\n",
    "\n",
    "## __mro__属性\n",
    "- 继承方法搜索的顺序\n",
    "```python\n",
    "bool.__bro__\n",
    "\n",
    "def print_mro(cls):\n",
    "    \"\"\"显示方法解析顺序\"\"\"\n",
    "    print(', '.join(c.__name__ for c in cls.__mro__))\n",
    "    \n",
    "import numbers\n",
    "print_mro(numbers.Integral)\n",
    "import io\n",
    "print_mro(io.BytesIO)\n",
    "import tkinter\n",
    "print_mro(tkinter.Text)\n",
    "```\n",
    "## 多重继承\n",
    "- 多重继承的受害者\n",
    "```python\n",
    "import tkinter\n",
    "# 有许多用不到的属性\n",
    "dir(tkinter.Button)\n",
    "```\n",
    "## 继承用途\n",
    "- 把接口继承和实现继承区分开\n",
    "- 使用抽象基类显示表示接口\n",
    "- 通过混入重用代码\n",
    "- 在名称中明确指明混入\n",
    "- 抽象基类可以作为混入，反过来则不成立\n",
    "- 不要子类化多个具体类\n",
    "- 为用户提供聚合类\n",
    "```python\n",
    "class Widget(BaseWidget, Pack, Place, Grid):\n",
    "    \"\"\"Internal class.\n",
    "    \n",
    "    Base class for a widget which can be positioned with the\n",
    "    geometry managers Pack, Place or Grid.\"\"\"\n",
    "    pass\n",
    "```\n",
    "Widget类的定义体是空的，但是这个类提供了有用的服务：把四个超类结合在一起。\n",
    "- “优先使用对象组合，而不是类继承”\n",
    "## 总结\n",
    "- 多重继承\n",
    "- 多重继承在tkinter和Django上的应用\n",
    "- 多重继承带来的问题，属性过多\n",
    "- 继承的一些建议，提供聚合类、重用代码等"
   ]
  }
 ],
 "metadata": {
  "kernelspec": {
   "display_name": "Python 3",
   "language": "python",
   "name": "python3"
  },
  "language_info": {
   "codemirror_mode": {
    "name": "ipython",
    "version": 3
   },
   "file_extension": ".py",
   "mimetype": "text/x-python",
   "name": "python",
   "nbconvert_exporter": "python",
   "pygments_lexer": "ipython3",
   "version": "3.7.2"
  }
 },
 "nbformat": 4,
 "nbformat_minor": 5
}
