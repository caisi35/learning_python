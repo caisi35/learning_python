{
 "cells": [
  {
   "cell_type": "code",
   "execution_count": 47,
   "id": "certified-facility",
   "metadata": {},
   "outputs": [],
   "source": [
    " def record_factory(cls_name, field_names):\n",
    "        try:\n",
    "            field_names = field_names.replace(',', ' ').split()\n",
    "        except AttributeError:\n",
    "            psss\n",
    "        field_names = tuple(field_names)\n",
    "        \n",
    "        def __init__(self, *args, **kwargs):\n",
    "            attrs = dict(zip(self.__slots__, args))\n",
    "            attrs.update(kwargs)\n",
    "            for name, value in attrs.items():\n",
    "                setattr(self, name, value)\n",
    "                \n",
    "        def __iter__(self):\n",
    "            for name in self.__slots__:\n",
    "                yield getattr(self, name)\n",
    "                \n",
    "        def __repr__(self):\n",
    "            values = ', '.join('{}={!r}'.format(*i) for i in zip(self.__slots__, self))\n",
    "            return '{}({})'.format(self.__class__.__name__ , values)\n",
    "        \n",
    "        cls_attrs = dict(__slots__ = field_names,\n",
    "                         __init = __init__,\n",
    "                         __iter__ = __iter__,\n",
    "                         __repr__ = __repr__)\n",
    "        \n",
    "        return type(cls_name, (object,), cls_attrs) # type传入三个参数可以新建一个类，第二个参数是继承的类，第三个参数是dict类型的属性名和值"
   ]
  },
  {
   "cell_type": "code",
   "execution_count": 48,
   "id": "crude-childhood",
   "metadata": {
    "scrolled": true
   },
   "outputs": [
    {
     "name": "stdout",
     "output_type": "stream",
     "text": [
      "<class '__main__.Dog'>\n"
     ]
    }
   ],
   "source": [
    "Dog = record_factory('Dog', 'name weight owner')\n",
    "print(Dog)\n",
    "# help(Dog)"
   ]
  },
  {
   "cell_type": "code",
   "execution_count": 49,
   "id": "challenging-federation",
   "metadata": {},
   "outputs": [
    {
     "ename": "TypeError",
     "evalue": "Dog() takes no arguments",
     "output_type": "error",
     "traceback": [
      "\u001b[1;31m---------------------------------------------------------------------------\u001b[0m",
      "\u001b[1;31mTypeError\u001b[0m                                 Traceback (most recent call last)",
      "\u001b[1;32m<ipython-input-49-44efa5cbb3bd>\u001b[0m in \u001b[0;36m<module>\u001b[1;34m\u001b[0m\n\u001b[1;32m----> 1\u001b[1;33m \u001b[0mrex\u001b[0m \u001b[1;33m=\u001b[0m \u001b[0mDog\u001b[0m\u001b[1;33m(\u001b[0m\u001b[0mname\u001b[0m\u001b[1;33m=\u001b[0m\u001b[1;34m'Rex'\u001b[0m\u001b[1;33m,\u001b[0m \u001b[0mweight\u001b[0m\u001b[1;33m=\u001b[0m\u001b[1;36m30\u001b[0m\u001b[1;33m,\u001b[0m \u001b[0mowner\u001b[0m\u001b[1;33m=\u001b[0m\u001b[1;34m'Bob'\u001b[0m\u001b[1;33m)\u001b[0m\u001b[1;33m\u001b[0m\u001b[1;33m\u001b[0m\u001b[0m\n\u001b[0m\u001b[0;32m      2\u001b[0m \u001b[0mrex\u001b[0m\u001b[1;33m\u001b[0m\u001b[1;33m\u001b[0m\u001b[0m\n",
      "\u001b[1;31mTypeError\u001b[0m: Dog() takes no arguments"
     ]
    }
   ],
   "source": [
    "rex = Dog(name='Rex', weight=30, owner='Bob')\n",
    "rex"
   ]
  },
  {
   "cell_type": "code",
   "execution_count": 50,
   "id": "undefined-addiction",
   "metadata": {},
   "outputs": [
    {
     "data": {
      "text/plain": [
       "('Rex', 30)"
      ]
     },
     "execution_count": 50,
     "metadata": {},
     "output_type": "execute_result"
    }
   ],
   "source": [
    "name, weight, _ = rex\n",
    "name, weight"
   ]
  },
  {
   "cell_type": "code",
   "execution_count": 51,
   "id": "overhead-hamilton",
   "metadata": {},
   "outputs": [
    {
     "data": {
      "text/plain": [
       "\"Bob's dog weight 30kg\""
      ]
     },
     "execution_count": 51,
     "metadata": {},
     "output_type": "execute_result"
    }
   ],
   "source": [
    "\"{2}'s dog weight {1}kg\".format(*rex)"
   ]
  },
  {
   "cell_type": "code",
   "execution_count": 52,
   "id": "useful-biology",
   "metadata": {},
   "outputs": [
    {
     "data": {
      "text/plain": [
       "Dog(name='Rex', weight=32, owner='Bob')"
      ]
     },
     "execution_count": 52,
     "metadata": {},
     "output_type": "execute_result"
    }
   ],
   "source": [
    "rex.weight = 32\n",
    "rex"
   ]
  },
  {
   "cell_type": "code",
   "execution_count": 53,
   "id": "green-rescue",
   "metadata": {},
   "outputs": [
    {
     "data": {
      "text/plain": [
       "(__main__.Dog, object)"
      ]
     },
     "execution_count": 53,
     "metadata": {},
     "output_type": "execute_result"
    }
   ],
   "source": [
    "Dog.__mro__"
   ]
  },
  {
   "cell_type": "code",
   "execution_count": 55,
   "id": "nonprofit-import",
   "metadata": {},
   "outputs": [],
   "source": [
    "Myclass = type('MyClass', (object, ), {'x': 42, 'x2': lambda self: self.x * 2})\n"
   ]
  },
  {
   "cell_type": "code",
   "execution_count": 58,
   "id": "viral-terrain",
   "metadata": {},
   "outputs": [],
   "source": [
    "class MyClass(object):\n",
    "    x = 42\n",
    "    \n",
    "    def x2(self):\n",
    "        return self.x * 2"
   ]
  },
  {
   "cell_type": "code",
   "execution_count": 62,
   "id": "printable-reputation",
   "metadata": {},
   "outputs": [
    {
     "data": {
      "text/plain": [
       "False"
      ]
     },
     "execution_count": 62,
     "metadata": {},
     "output_type": "execute_result"
    }
   ],
   "source": [
    "Myclass == MyClass"
   ]
  },
  {
   "cell_type": "code",
   "execution_count": 61,
   "id": "green-roman",
   "metadata": {},
   "outputs": [
    {
     "data": {
      "text/plain": [
       "__main__.MyClass2"
      ]
     },
     "execution_count": 61,
     "metadata": {},
     "output_type": "execute_result"
    }
   ],
   "source": [
    "MyClass2"
   ]
  },
  {
   "cell_type": "code",
   "execution_count": 63,
   "id": "severe-error",
   "metadata": {},
   "outputs": [
    {
     "data": {
      "text/plain": [
       "type"
      ]
     },
     "execution_count": 63,
     "metadata": {},
     "output_type": "execute_result"
    }
   ],
   "source": [
    "type(Myclass)"
   ]
  },
  {
   "cell_type": "code",
   "execution_count": 64,
   "id": "central-service",
   "metadata": {},
   "outputs": [
    {
     "data": {
      "text/plain": [
       "['__class__',\n",
       " '__delattr__',\n",
       " '__dict__',\n",
       " '__dir__',\n",
       " '__doc__',\n",
       " '__eq__',\n",
       " '__format__',\n",
       " '__ge__',\n",
       " '__getattribute__',\n",
       " '__gt__',\n",
       " '__hash__',\n",
       " '__init__',\n",
       " '__init_subclass__',\n",
       " '__le__',\n",
       " '__lt__',\n",
       " '__module__',\n",
       " '__ne__',\n",
       " '__new__',\n",
       " '__reduce__',\n",
       " '__reduce_ex__',\n",
       " '__repr__',\n",
       " '__setattr__',\n",
       " '__sizeof__',\n",
       " '__str__',\n",
       " '__subclasshook__',\n",
       " '__weakref__',\n",
       " 'x',\n",
       " 'x2']"
      ]
     },
     "execution_count": 64,
     "metadata": {},
     "output_type": "execute_result"
    }
   ],
   "source": [
    "dir(Myclass)"
   ]
  },
  {
   "cell_type": "code",
   "execution_count": 85,
   "id": "arbitrary-publication",
   "metadata": {},
   "outputs": [],
   "source": [
    "import abc\n",
    "\n",
    "\n",
    "class AutoStorage:\n",
    "    __counter = 0\n",
    "    \n",
    "    def __init__(self):\n",
    "        cls = self.__class__\n",
    "        prefix = cls.__name__\n",
    "        index = cls.__counter\n",
    "        self.storage_name = '_{}#{}'.format(prefix, index)\n",
    "        cls.__counter += 1\n",
    "        \n",
    "    def __get__(self, instance, owner):\n",
    "        if instance is None:\n",
    "            return self\n",
    "        else:\n",
    "            return getattr(instance, self.storage_name)\n",
    "        \n",
    "    def __set__(self, instance, value):\n",
    "        setattr(instance, self.storage_name, value)\n",
    "        \n",
    "        \n",
    "class Validated(abc.ABC, AutoStorage):\n",
    "    \"\"\"抽象类，处理验证\"\"\"\n",
    "    \n",
    "    def __set__(self, instance, value):\n",
    "        value = self.validate(instance, value)\n",
    "        super().__set__(instance, value)\n",
    "        \n",
    "    @abc.abstractmethod\n",
    "    def validate(self, instance, value):\n",
    "        \"\"\"raise\"\"\"\n",
    "        \n",
    "        \n",
    "class Quantity(Validated):\n",
    "    \"\"\"处理数值\"\"\"\n",
    "    \n",
    "    def validate(self, instance, value):\n",
    "        if value <= 0:\n",
    "            raise ValueError('value must be > 0')\n",
    "        else:\n",
    "            return value\n",
    "        \n",
    "\n",
    "class NonBlank(Validated):\n",
    "    \"\"\"处理description为空\"\"\"\n",
    "    def validate(self, instance, value):\n",
    "        value = value.strip()\n",
    "        if len(value) == 0:\n",
    "            raise ValueError('value cannot be empty or blank')\n",
    "        return value\n",
    "\n",
    "            \n",
    "    \n",
    "def entity(cls):\n",
    "    for key, attr in cls.__dict__.items():\n",
    "        if isinstance(attr, Validated):\n",
    "            type_name = type(attr).__name__\n",
    "            attr.storage_name = '_{}#{}'.format(type_name, key)\n",
    "    return cls\n",
    "\n",
    "            \n",
    "@entity\n",
    "class LineItem:\n",
    "    description = NonBlank()\n",
    "    weight = Quantity()\n",
    "    price = Quantity()\n",
    "    \n",
    "    def __init__(self, description, weight, price):\n",
    "        self.description = description\n",
    "        self.weight = weight\n",
    "        self.price = price\n",
    "        \n",
    "    def subtotal(self):\n",
    "        return self.weight * self.price\n",
    "    \n",
    "\n",
    "\n"
   ]
  },
  {
   "cell_type": "code",
   "execution_count": 107,
   "id": "mediterranean-jonathan",
   "metadata": {},
   "outputs": [
    {
     "data": {
      "text/plain": [
       "['_NonBlank#description', '_Quantity#price', '_Quantity#weight']"
      ]
     },
     "execution_count": 107,
     "metadata": {},
     "output_type": "execute_result"
    }
   ],
   "source": [
    "raisins = LineItem('Golden raisins', 10, 6.95)\n",
    "dir(raisins)[:3]\n"
   ]
  },
  {
   "cell_type": "code",
   "execution_count": 108,
   "id": "south-reservoir",
   "metadata": {},
   "outputs": [
    {
     "data": {
      "text/plain": [
       "'_NonBlank#description'"
      ]
     },
     "execution_count": 108,
     "metadata": {},
     "output_type": "execute_result"
    }
   ],
   "source": [
    "LineItem.description.storage_name"
   ]
  },
  {
   "cell_type": "code",
   "execution_count": 109,
   "id": "favorite-defendant",
   "metadata": {},
   "outputs": [
    {
     "name": "stdout",
     "output_type": "stream",
     "text": [
      "Golden raisins\n"
     ]
    }
   ],
   "source": [
    "print(raisins.description)"
   ]
  },
  {
   "cell_type": "code",
   "execution_count": 110,
   "id": "incorporated-preliminary",
   "metadata": {},
   "outputs": [
    {
     "name": "stdout",
     "output_type": "stream",
     "text": [
      "Golden raisins\n"
     ]
    }
   ],
   "source": [
    "print(getattr(raisins, '_NonBlank#description'))"
   ]
  },
  {
   "cell_type": "code",
   "execution_count": 111,
   "id": "particular-timber",
   "metadata": {},
   "outputs": [
    {
     "data": {
      "text/plain": [
       "<__main__.LineItem at 0x21a00a6b6a0>"
      ]
     },
     "execution_count": 111,
     "metadata": {},
     "output_type": "execute_result"
    }
   ],
   "source": [
    "raisins"
   ]
  },
  {
   "cell_type": "code",
   "execution_count": null,
   "id": "trying-jurisdiction",
   "metadata": {},
   "outputs": [],
   "source": []
  },
  {
   "cell_type": "code",
   "execution_count": 112,
   "id": "understanding-recycling",
   "metadata": {},
   "outputs": [
    {
     "data": {
      "text/plain": [
       "{'_NonBlank#description': 'Golden raisins',\n",
       " '_Quantity#weight': 10,\n",
       " '_Quantity#price': 6.95}"
      ]
     },
     "execution_count": 112,
     "metadata": {},
     "output_type": "execute_result"
    }
   ],
   "source": [
    "vars(raisins)"
   ]
  },
  {
   "cell_type": "code",
   "execution_count": null,
   "id": "infectious-theology",
   "metadata": {},
   "outputs": [],
   "source": [
    "# evalsupport.py\n",
    "print('<[100]> evalsupport module start')\n",
    "\n",
    "def deco_alpha(cls):\n",
    "    print('<[200]> deco_alpha')\n",
    "    \n",
    "    def inner_1(self):\n",
    "        print('<[300]> deco_alpha:inner_1')\n",
    "        \n",
    "    cls.method_y = inner_1\n",
    "    return cls\n",
    "\n",
    "class MetaAleph(type):\n",
    "    print('<[400]> MetaAleph body')\n",
    "    \n",
    "    def __init__(cls, name, base, dic):\n",
    "        print('<[500]> MetaAleph.__init__:inner_2')\n",
    "        \n",
    "        def inner_2(self):\n",
    "            print('<[600]> MetaAleph.__init__:inner_2')\n",
    "        \n",
    "        cls.method_z = inner_2\n",
    "    \n",
    "print('<[700]> evalsupport module end')"
   ]
  },
  {
   "cell_type": "code",
   "execution_count": 93,
   "id": "outstanding-arabic",
   "metadata": {
    "collapsed": true
   },
   "outputs": [
    {
     "ename": "ModuleNotFoundError",
     "evalue": "No module named 'evalsupport'",
     "output_type": "error",
     "traceback": [
      "\u001b[1;31m---------------------------------------------------------------------------\u001b[0m",
      "\u001b[1;31mModuleNotFoundError\u001b[0m                       Traceback (most recent call last)",
      "\u001b[1;32m<ipython-input-93-db45bc601e20>\u001b[0m in \u001b[0;36m<module>\u001b[1;34m\u001b[0m\n\u001b[1;32m----> 1\u001b[1;33m \u001b[1;32mfrom\u001b[0m \u001b[0mevalsupport\u001b[0m \u001b[1;32mimport\u001b[0m \u001b[0mdeco_alpha\u001b[0m\u001b[1;33m\u001b[0m\u001b[1;33m\u001b[0m\u001b[0m\n\u001b[0m\u001b[0;32m      2\u001b[0m \u001b[1;33m\u001b[0m\u001b[0m\n\u001b[0;32m      3\u001b[0m \u001b[0mprint\u001b[0m\u001b[1;33m(\u001b[0m\u001b[1;34m'<[1]> evaltime module start'\u001b[0m\u001b[1;33m)\u001b[0m\u001b[1;33m\u001b[0m\u001b[1;33m\u001b[0m\u001b[0m\n\u001b[0;32m      4\u001b[0m \u001b[1;33m\u001b[0m\u001b[0m\n\u001b[0;32m      5\u001b[0m \u001b[1;32mclass\u001b[0m \u001b[0mClassOne\u001b[0m\u001b[1;33m(\u001b[0m\u001b[1;33m)\u001b[0m\u001b[1;33m:\u001b[0m\u001b[1;33m\u001b[0m\u001b[1;33m\u001b[0m\u001b[0m\n",
      "\u001b[1;31mModuleNotFoundError\u001b[0m: No module named 'evalsupport'"
     ]
    }
   ],
   "source": [
    "# evaltime.py\n",
    "from evalsupport import deco_alpha\n",
    "\n",
    "print('<[1]> evaltime module start')\n",
    "\n",
    "class ClassOne():\n",
    "    print('<[2]> ClassOne body')\n",
    "    \n",
    "    def __init__(self):\n",
    "        print('<[3]> ClassOne.__init__')\n",
    "        \n",
    "    def __del__(self):\n",
    "        print('<[4]> ClassOne.__del__')\n",
    "        \n",
    "    def method_x(self):\n",
    "        print('<[5]> ClassOne.method_x')\n",
    "        \n",
    "    class ClassTwo(object):\n",
    "        print('<[6]> ClassTwo body')\n",
    "        \n",
    "        \n",
    "@deco_alpha\n",
    "class ClassThree():\n",
    "    print('<[7]> ClassOne.method_x')\n",
    "    \n",
    "    def method_y(self):\n",
    "        print('<[8]> ClassThree.method_y')\n",
    "        \n",
    "\n",
    "class ClassFour(ClassThree):\n",
    "    print('<[9]> ClassFour body')\n",
    "    \n",
    "    def method_y(self): # 装饰器不会对此方法起作用\n",
    "        print('<[10]> ClassFour.method_y')\n",
    "        \n",
    "        \n",
    "if __name__ == '__main__':\n",
    "    print('<[11]> ClassOne tests', 30 * '.')\n",
    "    one = ClassOne()\n",
    "    one.method_x()\n",
    "    print('<[12]> ClassThree tests', 30 * '.')\n",
    "    three = ClassThree()\n",
    "    three.method_y()\n",
    "    print('<[13]> ClassFour tests', 30 * '.')\n",
    "    four = ClassFour()\n",
    "    four.method_y()\n",
    "    \n",
    "print('<[14]> evaltime module end')"
   ]
  },
  {
   "cell_type": "code",
   "execution_count": 94,
   "id": "terminal-polls",
   "metadata": {},
   "outputs": [
    {
     "ename": "ModuleNotFoundError",
     "evalue": "No module named 'evaltime'",
     "output_type": "error",
     "traceback": [
      "\u001b[1;31m---------------------------------------------------------------------------\u001b[0m",
      "\u001b[1;31mModuleNotFoundError\u001b[0m                       Traceback (most recent call last)",
      "\u001b[1;32m<ipython-input-94-50bd60634aef>\u001b[0m in \u001b[0;36m<module>\u001b[1;34m\u001b[0m\n\u001b[1;32m----> 1\u001b[1;33m \u001b[1;32mimport\u001b[0m \u001b[0mevaltime\u001b[0m\u001b[1;33m\u001b[0m\u001b[1;33m\u001b[0m\u001b[0m\n\u001b[0m",
      "\u001b[1;31mModuleNotFoundError\u001b[0m: No module named 'evaltime'"
     ]
    }
   ],
   "source": [
    "import evaltime"
   ]
  },
  {
   "cell_type": "code",
   "execution_count": 95,
   "id": "professional-block",
   "metadata": {},
   "outputs": [
    {
     "data": {
      "text/plain": [
       "str"
      ]
     },
     "execution_count": 95,
     "metadata": {},
     "output_type": "execute_result"
    }
   ],
   "source": [
    "'spam'.__class__\n"
   ]
  },
  {
   "cell_type": "code",
   "execution_count": 96,
   "id": "royal-accreditation",
   "metadata": {},
   "outputs": [
    {
     "data": {
      "text/plain": [
       "type"
      ]
     },
     "execution_count": 96,
     "metadata": {},
     "output_type": "execute_result"
    }
   ],
   "source": [
    "str.__class__"
   ]
  },
  {
   "cell_type": "code",
   "execution_count": 97,
   "id": "excited-amateur",
   "metadata": {},
   "outputs": [
    {
     "data": {
      "text/plain": [
       "type"
      ]
     },
     "execution_count": 97,
     "metadata": {},
     "output_type": "execute_result"
    }
   ],
   "source": [
    "type(str)"
   ]
  },
  {
   "cell_type": "code",
   "execution_count": 98,
   "id": "active-norway",
   "metadata": {},
   "outputs": [
    {
     "data": {
      "text/plain": [
       "type"
      ]
     },
     "execution_count": 98,
     "metadata": {},
     "output_type": "execute_result"
    }
   ],
   "source": [
    "LineItem.__class__"
   ]
  },
  {
   "cell_type": "code",
   "execution_count": 99,
   "id": "center-accommodation",
   "metadata": {},
   "outputs": [
    {
     "data": {
      "text/plain": [
       "type"
      ]
     },
     "execution_count": 99,
     "metadata": {},
     "output_type": "execute_result"
    }
   ],
   "source": [
    "type.__class__"
   ]
  },
  {
   "cell_type": "code",
   "execution_count": 100,
   "id": "proprietary-machinery",
   "metadata": {},
   "outputs": [
    {
     "data": {
      "text/plain": [
       "type"
      ]
     },
     "execution_count": 100,
     "metadata": {},
     "output_type": "execute_result"
    }
   ],
   "source": [
    "type(type)"
   ]
  },
  {
   "cell_type": "code",
   "execution_count": 101,
   "id": "geographic-gates",
   "metadata": {},
   "outputs": [
    {
     "name": "stderr",
     "output_type": "stream",
     "text": [
      "d:\\python-3.7\\lib\\site-packages\\ipykernel_launcher.py:2: DeprecationWarning: Using or importing the ABCs from 'collections' instead of from 'collections.abc' is deprecated, and in 3.8 it will stop working\n",
      "  \n"
     ]
    },
    {
     "data": {
      "text/plain": [
       "abc.ABCMeta"
      ]
     },
     "execution_count": 101,
     "metadata": {},
     "output_type": "execute_result"
    }
   ],
   "source": [
    "import collections\n",
    "collections.Iterable.__class__"
   ]
  },
  {
   "cell_type": "code",
   "execution_count": 102,
   "id": "considerable-style",
   "metadata": {},
   "outputs": [
    {
     "data": {
      "text/plain": [
       "type"
      ]
     },
     "execution_count": 102,
     "metadata": {},
     "output_type": "execute_result"
    }
   ],
   "source": [
    "import abc\n",
    "abc.ABCMeta.__class__"
   ]
  },
  {
   "cell_type": "code",
   "execution_count": 103,
   "id": "another-trout",
   "metadata": {},
   "outputs": [
    {
     "data": {
      "text/plain": [
       "(abc.ABCMeta, type, object)"
      ]
     },
     "execution_count": 103,
     "metadata": {},
     "output_type": "execute_result"
    }
   ],
   "source": [
    "abc.ABCMeta.__mro__"
   ]
  },
  {
   "cell_type": "code",
   "execution_count": 104,
   "id": "technological-landing",
   "metadata": {
    "collapsed": true
   },
   "outputs": [
    {
     "ename": "ModuleNotFoundError",
     "evalue": "No module named 'evalsupport'",
     "output_type": "error",
     "traceback": [
      "\u001b[1;31m---------------------------------------------------------------------------\u001b[0m",
      "\u001b[1;31mModuleNotFoundError\u001b[0m                       Traceback (most recent call last)",
      "\u001b[1;32m<ipython-input-104-145d46392bef>\u001b[0m in \u001b[0;36m<module>\u001b[1;34m\u001b[0m\n\u001b[1;32m----> 1\u001b[1;33m \u001b[1;32mfrom\u001b[0m \u001b[0mevalsupport\u001b[0m \u001b[1;32mimport\u001b[0m \u001b[0mdeco_alpha\u001b[0m\u001b[1;33m\u001b[0m\u001b[1;33m\u001b[0m\u001b[0m\n\u001b[0m\u001b[0;32m      2\u001b[0m \u001b[1;32mfrom\u001b[0m \u001b[0mevalsupport\u001b[0m \u001b[1;32mimport\u001b[0m \u001b[0mMetaAleph\u001b[0m\u001b[1;33m\u001b[0m\u001b[1;33m\u001b[0m\u001b[0m\n\u001b[0;32m      3\u001b[0m \u001b[1;33m\u001b[0m\u001b[0m\n\u001b[0;32m      4\u001b[0m \u001b[0mprint\u001b[0m\u001b[1;33m(\u001b[0m\u001b[1;34m'<[1]> evaltime_meta module start'\u001b[0m\u001b[1;33m)\u001b[0m\u001b[1;33m\u001b[0m\u001b[1;33m\u001b[0m\u001b[0m\n\u001b[0;32m      5\u001b[0m \u001b[1;33m\u001b[0m\u001b[0m\n",
      "\u001b[1;31mModuleNotFoundError\u001b[0m: No module named 'evalsupport'"
     ]
    }
   ],
   "source": [
    "from evalsupport import deco_alpha\n",
    "from evalsupport import MetaAleph\n",
    "\n",
    "print('<[1]> evaltime_meta module start')\n",
    "\n",
    "@deco_alpha\n",
    "class ClassThree():\n",
    "    print('<[2]> ClassThree body')\n",
    "    \n",
    "    def method_y(self):\n",
    "        print('<[3]> ClassThree.method_y')\n",
    "        \n",
    "        \n",
    "class ClassFour(ClassThree):\n",
    "    print('<[4]> ClassFour body')\n",
    "    \n",
    "    def method_y(self):\n",
    "        print('<[5]> ClassFour.method_y')\n",
    "        \n",
    "class ClassFive(metaclass=MetaAleph):\n",
    "    print('<[6]> ClassFive body')\n",
    "    \n",
    "    def __init__(self):\n",
    "        print('<[7]> ClassFive.__init__')\n",
    "        \n",
    "    def method_z(self):\n",
    "        print('<[8]> ClassFive.method_z')\n",
    "        \n",
    "class ClassSix(ClassFive):\n",
    "    print('<[9]> ClassSix body')\n",
    "    \n",
    "    def method_z(self):\n",
    "        print('<[10]> ClassSix.method_z')\n",
    "        \n",
    "if __name__ == '__main__':\n",
    "    print('<[11]> ClassThree tests', 30 * '.')\n",
    "    three = ClassThree()\n",
    "    three.method_y()\n",
    "    print('<[12]> ClassFour tests', 30 * '.')\n",
    "    four = ClassFour()\n",
    "    four.method_y()\n",
    "    print('<[13]> Classfive tests', 30 * '.')\n",
    "    five = ClassFive()\n",
    "    five.method_z()\n",
    "    print('<[14]> ClassSix tests', 30 * '.')\n",
    "    six = ClassSix()\n",
    "    six.method()\n",
    "    \n",
    "print('<[15]> evaltime_meta module end')"
   ]
  },
  {
   "cell_type": "code",
   "execution_count": 106,
   "id": "filled-zoning",
   "metadata": {},
   "outputs": [],
   "source": [
    "class EntityMeta(type):\n",
    "    \"\"\"创建验证字段的业务实体\"\"\"\n",
    "    \n",
    "    def __init__(cls, name, bases, attr_dict):\n",
    "        super().__init__(name, bases, attr_dict)\n",
    "        for key, attr in attr_dict.items():\n",
    "            if isinstance(attr, Validated):\n",
    "                type_name = type(attr).__name__\n",
    "                attr.storage_name = '_{}#{}'.format(type_name, key)\n",
    "                \n",
    "class Entity(metaclass=EntityMeta):\n",
    "    \"\"\"业务实体\"\"\"\n",
    "    \n",
    "class LineItem(Entity):\n",
    "    description = NonBlank()\n",
    "    weight = Quantity()\n",
    "    price = Quantity()\n",
    "    \n",
    "    def __init__(self, description, weight, price):\n",
    "        self.description = description\n",
    "        self.weight = weight\n",
    "        self.price = price\n",
    "        \n",
    "    def subtotal(self):\n",
    "        return self.weight * self.price\n",
    "    \n"
   ]
  },
  {
   "cell_type": "code",
   "execution_count": 119,
   "id": "middle-agency",
   "metadata": {},
   "outputs": [],
   "source": [
    "class EntityMeta(type):\n",
    "    \"\"\"元类\"\"\"\n",
    "    \n",
    "    @classmethod\n",
    "    def __prepare__(cls, name, bases):\n",
    "        return collections.OrderedDict()\n",
    "    \n",
    "    def __init__(cls, name, bases, attr_dict):\n",
    "        super().__init__(name, bases, attr_dict)\n",
    "        cls._field_names = []\n",
    "        for key, attr in attr_dict.items():\n",
    "            if isinstance(attr, Validated):\n",
    "                type_name = type(attr).__name__\n",
    "                attr.storage_name = '_{}#{}'.format(type_name, key)\n",
    "                cls._field_names.append(key)\n",
    "                \n",
    "class Entity(metaclass=EntityMeta):\n",
    "    \"\"\"实体\"\"\"\n",
    "    \n",
    "    @classmethod\n",
    "    def field_names(cls):\n",
    "        for name in cls._field_names:\n",
    "            yield name"
   ]
  },
  {
   "cell_type": "code",
   "execution_count": 120,
   "id": "moderate-encyclopedia",
   "metadata": {},
   "outputs": [
    {
     "name": "stdout",
     "output_type": "stream",
     "text": [
      "description\n",
      "weight\n",
      "price\n"
     ]
    }
   ],
   "source": [
    "class LineItem(Entity):\n",
    "    description = NonBlank()\n",
    "    weight = Quantity()\n",
    "    price = Quantity()\n",
    "    \n",
    "    def __init__(self, description, weight, price):\n",
    "        self.description = description\n",
    "        self.weight = weight\n",
    "        self.price = price\n",
    "        \n",
    "    def subtotal(self):\n",
    "        return self.weight * self.price\n",
    "    \n",
    "for name in LineItem.field_names():\n",
    "    print(name)"
   ]
  },
  {
   "cell_type": "code",
   "execution_count": 122,
   "id": "clear-globe",
   "metadata": {},
   "outputs": [
    {
     "data": {
      "text/plain": [
       "(__main__.LineItem, __main__.Entity, object)"
      ]
     },
     "execution_count": 122,
     "metadata": {},
     "output_type": "execute_result"
    }
   ],
   "source": [
    "LineItem.__mro__"
   ]
  },
  {
   "cell_type": "code",
   "execution_count": 123,
   "id": "protective-sponsorship",
   "metadata": {},
   "outputs": [
    {
     "data": {
      "text/plain": [
       "__main__.EntityMeta"
      ]
     },
     "execution_count": 123,
     "metadata": {},
     "output_type": "execute_result"
    }
   ],
   "source": [
    "LineItem.__class__"
   ]
  },
  {
   "cell_type": "code",
   "execution_count": 124,
   "id": "attached-vision",
   "metadata": {},
   "outputs": [
    {
     "data": {
      "text/plain": [
       "'LineItem'"
      ]
     },
     "execution_count": 124,
     "metadata": {},
     "output_type": "execute_result"
    }
   ],
   "source": [
    "LineItem.__name__"
   ]
  },
  {
   "cell_type": "code",
   "execution_count": 125,
   "id": "institutional-ocean",
   "metadata": {},
   "outputs": [
    {
     "data": {
      "text/plain": [
       "(__main__.Entity,)"
      ]
     },
     "execution_count": 125,
     "metadata": {},
     "output_type": "execute_result"
    }
   ],
   "source": [
    "LineItem.__bases__"
   ]
  },
  {
   "cell_type": "code",
   "execution_count": 126,
   "id": "suspended-publisher",
   "metadata": {},
   "outputs": [
    {
     "data": {
      "text/plain": [
       "'LineItem'"
      ]
     },
     "execution_count": 126,
     "metadata": {},
     "output_type": "execute_result"
    }
   ],
   "source": [
    "LineItem.__qualname__"
   ]
  },
  {
   "cell_type": "code",
   "execution_count": 127,
   "id": "unsigned-bones",
   "metadata": {},
   "outputs": [
    {
     "ename": "NameError",
     "evalue": "name 'ClassTwo' is not defined",
     "output_type": "error",
     "traceback": [
      "\u001b[1;31m---------------------------------------------------------------------------\u001b[0m",
      "\u001b[1;31mNameError\u001b[0m                                 Traceback (most recent call last)",
      "\u001b[1;32m<ipython-input-127-e8f8fad6ccc8>\u001b[0m in \u001b[0;36m<module>\u001b[1;34m\u001b[0m\n\u001b[1;32m----> 1\u001b[1;33m \u001b[0mClassTwo\u001b[0m\u001b[1;33m.\u001b[0m\u001b[0m__qualname__\u001b[0m\u001b[1;33m\u001b[0m\u001b[1;33m\u001b[0m\u001b[0m\n\u001b[0m",
      "\u001b[1;31mNameError\u001b[0m: name 'ClassTwo' is not defined"
     ]
    }
   ],
   "source": [
    "ClassTwo.__qualname__"
   ]
  },
  {
   "cell_type": "code",
   "execution_count": 128,
   "id": "failing-metadata",
   "metadata": {},
   "outputs": [
    {
     "data": {
      "text/plain": [
       "<function LineItem.__subclasses__()>"
      ]
     },
     "execution_count": 128,
     "metadata": {},
     "output_type": "execute_result"
    }
   ],
   "source": [
    "LineItem.__subclasses__"
   ]
  },
  {
   "cell_type": "code",
   "execution_count": 129,
   "id": "brutal-album",
   "metadata": {},
   "outputs": [
    {
     "data": {
      "text/plain": [
       "[]"
      ]
     },
     "execution_count": 129,
     "metadata": {},
     "output_type": "execute_result"
    }
   ],
   "source": [
    "LineItem.__subclasses__()"
   ]
  },
  {
   "cell_type": "code",
   "execution_count": 130,
   "id": "pleasant-studio",
   "metadata": {},
   "outputs": [
    {
     "data": {
      "text/plain": [
       "[__main__.LineItem]"
      ]
     },
     "execution_count": 130,
     "metadata": {},
     "output_type": "execute_result"
    }
   ],
   "source": [
    "Entity.__subclasses__()"
   ]
  },
  {
   "cell_type": "code",
   "execution_count": 131,
   "id": "immune-asthma",
   "metadata": {},
   "outputs": [
    {
     "data": {
      "text/plain": [
       "<function Entity.__subclasses__()>"
      ]
     },
     "execution_count": 131,
     "metadata": {},
     "output_type": "execute_result"
    }
   ],
   "source": [
    "Entity.__subclasses__"
   ]
  },
  {
   "cell_type": "code",
   "execution_count": 132,
   "id": "virgin-remedy",
   "metadata": {},
   "outputs": [
    {
     "data": {
      "text/plain": [
       "[__main__.Entity, object]"
      ]
     },
     "execution_count": 132,
     "metadata": {},
     "output_type": "execute_result"
    }
   ],
   "source": [
    "Entity.mro()"
   ]
  },
  {
   "cell_type": "code",
   "execution_count": 133,
   "id": "inclusive-transport",
   "metadata": {},
   "outputs": [
    {
     "data": {
      "text/plain": [
       "['__class__',\n",
       " '__delattr__',\n",
       " '__dict__',\n",
       " '__dir__',\n",
       " '__doc__',\n",
       " '__eq__',\n",
       " '__format__',\n",
       " '__ge__',\n",
       " '__getattribute__',\n",
       " '__gt__',\n",
       " '__hash__',\n",
       " '__init__',\n",
       " '__init_subclass__',\n",
       " '__le__',\n",
       " '__lt__',\n",
       " '__module__',\n",
       " '__ne__',\n",
       " '__new__',\n",
       " '__reduce__',\n",
       " '__reduce_ex__',\n",
       " '__repr__',\n",
       " '__setattr__',\n",
       " '__sizeof__',\n",
       " '__str__',\n",
       " '__subclasshook__',\n",
       " '__weakref__',\n",
       " '_field_names',\n",
       " 'field_names']"
      ]
     },
     "execution_count": 133,
     "metadata": {},
     "output_type": "execute_result"
    }
   ],
   "source": [
    "dir(Entity)"
   ]
  },
  {
   "cell_type": "code",
   "execution_count": 134,
   "id": "imported-petite",
   "metadata": {},
   "outputs": [
    {
     "data": {
      "text/plain": [
       "[__main__.LineItem]"
      ]
     },
     "execution_count": 134,
     "metadata": {},
     "output_type": "execute_result"
    }
   ],
   "source": [
    "Entity.__subclasses__()"
   ]
  },
  {
   "cell_type": "code",
   "execution_count": null,
   "id": "downtown-bangladesh",
   "metadata": {},
   "outputs": [],
   "source": []
  },
  {
   "cell_type": "code",
   "execution_count": null,
   "id": "declared-sense",
   "metadata": {},
   "outputs": [],
   "source": []
  },
  {
   "cell_type": "markdown",
   "id": "respiratory-majority",
   "metadata": {},
   "source": [
    "# 类元编程\n",
    "\n",
    "元类编程指在运行时创建或定制类。\n",
    "\n",
    "- 在运行时创建类\n",
    "\n",
    "## 类工厂函数\n",
    "\n",
    "类是一等对象，可以使用函数新建类，而无须使用class关键字\n",
    "\n",
    "```python\n",
    "def record_factory(cls_name, field_names):\n",
    "    try:\n",
    "        field_names = field_names.replace(',', ' ').split()\n",
    "    except AttributeError:\n",
    "        psss\n",
    "    field_names = tuple(field_names)\n",
    "\n",
    "    def __init__(self, *args, **kwargs):\n",
    "        attrs = dict(zip(self.__slots__, args))\n",
    "        attrs.update(kwargs)\n",
    "        for name, value in attrs.items():\n",
    "            setattr(self, name, value)\n",
    "\n",
    "    def __iter__(self):\n",
    "        \"\"\"类的实例变成可迭代对象\"\"\"\n",
    "        for name in self.__slots__:\n",
    "            yield getattr(self, name)\n",
    "\n",
    "    def __repr__(self):\n",
    "        values = ', '.join('{}={!r}'.format(*i) for i in zip(self.__slots__, self))\n",
    "        return '{}({})'.format(self.__class__.__name__ , values)\n",
    "\n",
    "    cls_attrs = dict(__slots__ = field_names,\n",
    "                     __init = __init__,\n",
    "                     __iter__ = __iter__,\n",
    "                     __repr__ = __repr__)\n",
    "\n",
    "    return type(cls_name, (object,), cls_attrs) # type传入三个参数可以新建一个类，第二个参数是继承的类，第三个参数是dict类型的属性名和值\n",
    "\n",
    "Dog = record_factory('Dog', 'name weight owner')\n",
    "rex = Dog('Rex', 30, 'Bob')\n",
    "print(rex)\n",
    "name, weight, _ = rex # 解包\n",
    "name, weight\n",
    "\"{2}'s dog weighs {1}kg\".format(*rex)\n",
    "rex.weight = 32\n",
    "print(rex)\n",
    "Dog.__mro__ # 继承的类\n",
    "```\n",
    "以上创建的类，名称是传入的cls_name，唯一的超类object，有`__slots__`、`__init__`、`__iter__`和`__repr__`四个类属性，三个实例方法。\n",
    "\n",
    "## 定制描述符的类装饰器\n",
    "\n",
    "类装饰器，参数为类对象的函数，返回原来的类或修改后的类\n",
    "\n",
    "```python\n",
    "import abc\n",
    "\n",
    "\n",
    "class AutoStorage:\n",
    "    __counter = 0\n",
    "    \n",
    "    def __init__(self):\n",
    "        cls = self.__class__\n",
    "        prefix = cls.__name__\n",
    "        index = cls.__counter\n",
    "        self.storage_name = '_{}#{}'.format(prefix, index)\n",
    "        cls.__counter += 1\n",
    "        \n",
    "    def __get__(self, instance, owner):\n",
    "        if instance is None:\n",
    "            return self\n",
    "        else:\n",
    "            return getattr(instance, self.storage_name)\n",
    "        \n",
    "    def __set__(self, instance, value):\n",
    "        setattr(instance, self.storage_name, value)\n",
    "        \n",
    "        \n",
    "class Validated(abc.ABC, AutoStorage):\n",
    "    \"\"\"抽象类，处理验证\"\"\"\n",
    "    \n",
    "    def __set__(self, instance, value):\n",
    "        value = self.validate(instance, value)\n",
    "        super().__set__(instance, value)\n",
    "        \n",
    "    @abc.abstractmethod\n",
    "    def validate(self, instance, value):\n",
    "        \"\"\"raise\"\"\"\n",
    "        \n",
    "        \n",
    "class Quantity(Validated):\n",
    "    \"\"\"处理数值\"\"\"\n",
    "    \n",
    "    def validate(self, instance, value):\n",
    "        if value <= 0:\n",
    "            raise ValueError('value must be > 0')\n",
    "        else:\n",
    "            return value\n",
    "        \n",
    "\n",
    "class NonBlank(Validated):\n",
    "    \"\"\"处理description为空\"\"\"\n",
    "    def validate(self, instance, value):\n",
    "        value = value.strip()\n",
    "        if len(value) == 0:\n",
    "            raise ValueError('value cannot be empty or blank')\n",
    "        return value\n",
    "\n",
    "            \n",
    "    \n",
    "def entity(cls):\n",
    "    \"\"\"类装饰器，修改各个描述符实例的storage_name属性\"\"\"\n",
    "    for key, attr in cls.__dict__.items():\n",
    "        if isinstance(attr, Validated):\n",
    "            type_name = type(attr).__name__\n",
    "            attr.storage_name = '_{}#{}'.format(type_name, key)\n",
    "    return cls\n",
    "\n",
    "            \n",
    "@entity\n",
    "class LineItem:\n",
    "    description = NonBlank()\n",
    "    weight = Quantity()\n",
    "    price = Quantity()\n",
    "    \n",
    "    def __init__(self, description, weight, price):\n",
    "        self.description = description\n",
    "        self.weight = weight\n",
    "        self.price = price\n",
    "        \n",
    "    def subtotal(self):\n",
    "        return self.weight * self.price\n",
    "    \n",
    "raisins = LineItem('Golden raisins', 10, 6.95)\n",
    "dir(raisins)[:3]\n",
    "LineItem.description.storage_name\n",
    "raisins.description\n",
    "getattr(raisins, '_NonBlank#description')\n",
    "```\n",
    "\n",
    "类装饰器对被装饰的子类可能继承也可能不继承装饰器所做的改动。\n",
    "\n",
    "## 导入时和运行时比较\n",
    "\n",
    "解释器编译函数的定义体，把函数对象绑定到对应的全局名称上，但是不会执行函数的定义体。\n",
    "\n",
    "对类，解释器会执行每个类的定义体，甚至会执行嵌套类的定义体。执行定义体时，定义了类的属性和方法，并构建了类对象。\n",
    "\n",
    "### 调用在何时执行\n",
    "\n",
    "```python\n",
    "# evalsupport.py\n",
    "print('<[100]> evalsupport module start')\n",
    "\n",
    "def deco_alpha(cls):\n",
    "    print('<[200]> deco_alpha')\n",
    "    \n",
    "    def inner_1(self):\n",
    "        print('<[300]> deco_alpha:inner_1')\n",
    "        \n",
    "    cls.method_y = inner_1\n",
    "    return cls\n",
    "\n",
    "class MetaAleph(type):\n",
    "    print('<[400]> MetaAleph body')\n",
    "    \n",
    "    def __init__(cls, name, base, dic):\n",
    "        print('<[500]> MetaAleph.__init__:inner_2')\n",
    "        \n",
    "        def inner_2(self):\n",
    "            print('<[600]> MetaAleph.__init__:inner_2')\n",
    "        \n",
    "        cls.method_z = inner_2\n",
    "    \n",
    "print('<[700]> evalsupport module end')\n",
    "```\n",
    "\n",
    "```python\n",
    "# evaltime.py\n",
    "from evalsupport import deco_alpha\n",
    "\n",
    "print('<[1]> evaltime module start')\n",
    "\n",
    "class ClassOne():\n",
    "    print('<[2]> ClassOne body')\n",
    "    \n",
    "    def __init__(self):\n",
    "        print('<[3]> ClassOne.__init__')\n",
    "        \n",
    "    def __del__(self):\n",
    "        print('<[4]> ClassOne.__del__')\n",
    "        \n",
    "    def method_x(self):\n",
    "        print('<[5]> ClassOne.method_x')\n",
    "        \n",
    "    class ClassTwo(object):\n",
    "        print('<[6]> ClassTwo body')\n",
    "        \n",
    "        \n",
    "@deco_alpha\n",
    "class ClassThree():\n",
    "    print('<[7]> ClassOne.method_x')\n",
    "    \n",
    "    def method_y(self):\n",
    "        print('<[8]> ClassThree.method_y')\n",
    "        \n",
    "\n",
    "class ClassFour(ClassThree):\n",
    "    print('<[9]> ClassFour body')\n",
    "    \n",
    "    def method_y(self): # 装饰器不会对此方法起作用\n",
    "        print('<[10]> ClassFour.method_y')\n",
    "        \n",
    "        \n",
    "if __name__ == '__main__':\n",
    "    print('<[11]> ClassOne tests', 30 * '.')\n",
    "    one = ClassOne()\n",
    "    one.method_x()\n",
    "    print('<[12]> ClassThree tests', 30 * '.')\n",
    "    three = ClassThree()\n",
    "    three.method_y()\n",
    "    print('<[13]> ClassFour tests', 30 * '.')\n",
    "    four = ClassFour()\n",
    "    four.method_y()\n",
    "    \n",
    "print('<[14]> evaltime module end')\n",
    "\n",
    "```\n",
    "\n",
    "- 在Python控制台中导入evaltime模块\n",
    "```python \n",
    ">> import evaltime\n",
    "\n",
    "100 # evalsupport 开始\n",
    "400 # 类的定义体会运行\n",
    "700 # evalsupport 结束\n",
    "\n",
    "1 #evaltime 开始\n",
    "2 # ClassOne 定义体\n",
    "6 # ClassTwo 嵌套类定义体也会执行\n",
    "7 # ClassThree 定义体\n",
    "200 # 先计算被装饰的类的定义体，然后运行装饰器函数\n",
    "9 # ClassFour 定义体\n",
    "14 evaltime 结束\n",
    "```\n",
    "\n",
    "- 在命令行中运行evaltime.py模块\n",
    "```python\n",
    "> python evaltime.py\n",
    "\n",
    "100 # evalsupport 开始\n",
    "400 # MetaAleph 定义体\n",
    "700 # evalsupport 结束\n",
    "\n",
    "1 #evaltime 开始\n",
    "2 # ClassOne 定义体\n",
    "6 # ClassTwo 嵌套类定义体也会执行\n",
    "7 # ClassThree 定义体\n",
    "200 # 先计算被装饰的类的定义体，然后运行装饰器函数\n",
    "9 # ClassFour 定义体\n",
    "\n",
    "# 以上和import 导入相同\n",
    "\n",
    "11 # \n",
    "3 # 运行main中的，ClassOne.__init__执行\n",
    "5 # ClassOne.method_x方法运行\n",
    "\n",
    "12 # 运行带类装饰器的\n",
    "300 # ClassThree.method_y方法被装饰器修改了，运行deco_alpha的inner_1函数的定义体\n",
    "\n",
    "13 # 运行继承被装饰的类ClassThree\n",
    "10 # 继承的子类的ClassFour.method_y不被装饰器起作用，运行ClassFour.method_y定义体\n",
    "14 # evaltime 结束\n",
    "4 # 程序结束，运行ClassOne.__del__ 垃圾回收\n",
    "```\n",
    "\n",
    "## 元类\n",
    "\n",
    "元类是制造类的工厂\n",
    "\n",
    "默认情况下，Python中的类是type类的实例。type是大多数内置类和用户自定义类的元类。\n",
    "\n",
    "```python\n",
    "'spam'.__class__\n",
    "str.__class__\n",
    "LineItem.__class__\n",
    "type.__class__ # type是自身的实例\n",
    "```\n",
    "\n",
    "- 元类从type类继承了构造类的能力\n",
    "\n",
    "所有类都是type的实例，但是元类还是type的子类。\n",
    "\n",
    "```python\n",
    "import collections\n",
    "collections.Iterable.__class__\n",
    "import abc\n",
    "abc.ABCMeta.__class__\n",
    "abc.ABCMeta.__mro__\n",
    "```\n",
    "\n",
    "### 元类执行顺序\n",
    "\n",
    "```python\n",
    "from evalsupport import deco_alpha\n",
    "from evalsupport import MetaAleph\n",
    "\n",
    "print('<[1]> evaltime_meta module start')\n",
    "\n",
    "@deco_alpha\n",
    "class ClassThree():\n",
    "    print('<[2]> ClassThree body')\n",
    "    \n",
    "    def method_y(self):\n",
    "        print('<[3]> ClassThree.method_y')\n",
    "        \n",
    "        \n",
    "class ClassFour(ClassThree):\n",
    "    print('<[4]> ClassFour body')\n",
    "    \n",
    "    def method_y(self):\n",
    "        print('<[5]> ClassFour.method_y')\n",
    "        \n",
    "class ClassFive(metaclass=MetaAleph):\n",
    "    print('<[6]> ClassFive body')\n",
    "    \n",
    "    def __init__(self):\n",
    "        print('<[7]> ClassFive.__init__')\n",
    "        \n",
    "    def method_z(self):\n",
    "        print('<[8]> ClassFive.method_z')\n",
    "        \n",
    "class ClassSix(ClassFive):\n",
    "    print('<[9]> ClassSix body')\n",
    "    \n",
    "    def method_z(self):\n",
    "        print('<[10]> ClassSix.method_z')\n",
    "        \n",
    "if __name__ == '__main__':\n",
    "    print('<[11]> ClassThree tests', 30 * '.')\n",
    "    three = ClassThree()\n",
    "    three.method_y()\n",
    "    print('<[12]> ClassFour tests', 30 * '.')\n",
    "    four = ClassFour()\n",
    "    four.method_y()\n",
    "    print('<[13]> Classfive tests', 30 * '.')\n",
    "    five = ClassFive()\n",
    "    five.method_z()\n",
    "    print('<[14]> ClassSix tests', 30 * '.')\n",
    "    six = ClassSix()\n",
    "    six.method()\n",
    "    \n",
    "print('<[15]> evaltime_meta module end')\n",
    "```\n",
    "\n",
    "- 在控制台导入evaltime_meta模块\n",
    "```python\n",
    ">>> import evaltime_meta\n",
    "<[100]> evalsupport module start # evalsupport 开始\n",
    "<[400]> MetaAleph body # MetaAleph 定义体\n",
    "<[700]> evalsupport module end # evalsupport 结束\n",
    "<[1]> evaltime_meta module start # evaltime_meta 开始\n",
    "<[2]> ClassThree body # ClassThree 定义体\n",
    "<[200]> deco_alpha # 执行类装饰器\n",
    "<[4]> ClassFour body # ClassFour 定义体\n",
    "\n",
    "<[6]> ClassFive body # ClassFive 定义体 继承MetaAleph类\n",
    "<[500]> MetaAleph.__init__:inner_2 # method_z方法被装饰器修改为inner_2\n",
    "<[9]> ClassSix body # ClassSix 定义体 继承ClassFive类\n",
    "<[500]> MetaAleph.__init__:inner_2 # method_z方法被装饰器修改为inner_2\n",
    "<[15]> evaltime_meta module end # evaltime_meta 结束\n",
    "```\n",
    "\n",
    "- 在命令行运行evaltime_meta.py模块\n",
    "\n",
    "```python\n",
    "D:\\PythonProject\\Learning_python\\fluent_python\\code>python evaltime_meta.py\n",
    "<[100]> evalsupport module start\n",
    "<[400]> MetaAleph body\n",
    "<[700]> evalsupport module end\n",
    "<[1]> evaltime_meta module start\n",
    "<[2]> ClassThree body\n",
    "<[200]> deco_alpha\n",
    "<[4]> ClassFour body\n",
    "<[6]> ClassFive body\n",
    "<[500]> MetaAleph.__init__:inner_2\n",
    "<[9]> ClassSix body\n",
    "<[500]> MetaAleph.__init__:inner_2\n",
    "    \n",
    "<[11]> ClassThree tests .............................. # 执行被类装饰器的类\n",
    "<[300]> deco_alpha:inner_1 # method_z方法被替换成inner_1方法\n",
    "<[12]> ClassFour tests .............................. # 继承ClassThree\n",
    "<[5]> ClassFour.method_y # 不受装饰器的影响\n",
    "<[13]> Classfive tests .............................. # 继承MetaAleph元类\n",
    "<[7]> ClassFive.__init__\n",
    "<[600]> MetaAleph.__init__:inner_2 # MetaAleph类的__init__方法把method_z方法替换成inner_2函数\n",
    "<[14]> ClassSix tests .............................. # 继承ClassFive\n",
    "<[7]> ClassFive.__init__\n",
    "<[600]> MetaAleph.__init__:inner_2 # 与父类相同，method_z方法被替换成inner_2函数\n",
    "<[15]> evaltime_meta module end # evaltime_meta 结束\n",
    "```\n",
    "\n",
    "## 定制描述符的元类\n",
    "\n",
    "- __prepare__ 使字段和属性按顺序映射\n",
    "\n",
    "```python\n",
    "class EntityMeta(type):\n",
    "    \"\"\"元类\"\"\"\n",
    "    \n",
    "    @classmethod\n",
    "    def __prepare__(cls, name, bases):\n",
    "        return collections.OrderedDict()\n",
    "    \n",
    "    def __init__(cls, name, bases, attr_dict):\n",
    "        super().__init__(name, bases, attr_dict)\n",
    "        cls._field_names = []\n",
    "        for key, attr in attr_dict.items():\n",
    "            if isinstance(attr, Validated):\n",
    "                type_name = type(attr).__name__\n",
    "                attr.storage_name = '_{}#{}'.format(type_name, key)\n",
    "                cls._field_names.append(key)\n",
    "                \n",
    "class Entity(metaclass=EntityMeta):\n",
    "    \"\"\"实体\"\"\"\n",
    "    \n",
    "    @classmethod\n",
    "    def field_names(cls):\n",
    "        for name in cls._field_names:\n",
    "            yield name\n",
    "```\n",
    "\n",
    "- 继承元类，无需关心机体实现\n",
    "\n",
    "```python            \n",
    "class LineItem(Entity):\n",
    "    description = NonBlank()\n",
    "    weight = Quantity()\n",
    "    price = Quantity()\n",
    "    \n",
    "    def __init__(self, description, weight, price):\n",
    "        self.description = description\n",
    "        self.weight = weight\n",
    "        self.price = price\n",
    "        \n",
    "    def subtotal(self):\n",
    "        return self.weight * self.price\n",
    "    \n",
    "for name in LineItem.field_names():\n",
    "    print(name)\n",
    "    \n",
    "```\n",
    "\n",
    "## 类作对象\n",
    "\n",
    "- 类属性\n",
    "\n",
    "```python\n",
    "LineItem.__mro__\n",
    "LineItem.__class__\n",
    "LineItem.__name__\n",
    "\n",
    "LineItem.__bases__ # 类的基类\n",
    "LineItem.__qualname__ # 限定名称\n",
    "Entity.__subclass__() # 直接子类\n",
    "Entity.mro() # 超类元组\n",
    "\n",
    "dir(LineItem)\n",
    "```\n",
    "\n",
    "## 总结\n",
    "\n",
    "- type当类使用时，传入三个参数可以新建一个类，name、bases和dict，类名、基类和属性名:值\n",
    "- 元类在运行时创建或定制类\n",
    "- 类工厂，以及类装饰器\n",
    "- 类和函数，在导入时和运行时的执行顺序\n",
    "- 类属性\n",
    "- 最后一章了\n",
    "\n",
    "> 流畅的Python"
   ]
  }
 ],
 "metadata": {
  "kernelspec": {
   "display_name": "Python 3",
   "language": "python",
   "name": "python3"
  },
  "language_info": {
   "codemirror_mode": {
    "name": "ipython",
    "version": 3
   },
   "file_extension": ".py",
   "mimetype": "text/x-python",
   "name": "python",
   "nbconvert_exporter": "python",
   "pygments_lexer": "ipython3",
   "version": "3.7.2"
  }
 },
 "nbformat": 4,
 "nbformat_minor": 5
}
