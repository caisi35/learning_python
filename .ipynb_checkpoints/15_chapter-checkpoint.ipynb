{
 "cells": [
  {
   "cell_type": "code",
   "execution_count": 1,
   "id": "alpine-question",
   "metadata": {},
   "outputs": [
    {
     "data": {
      "text/plain": [
       "60"
      ]
     },
     "execution_count": 1,
     "metadata": {},
     "output_type": "execute_result"
    }
   ],
   "source": [
    "with open('debug.log') as fp:\n",
    "    src = fp.read(60)\n",
    "len(src)"
   ]
  },
  {
   "cell_type": "code",
   "execution_count": 2,
   "id": "coastal-embassy",
   "metadata": {},
   "outputs": [
    {
     "data": {
      "text/plain": [
       "<_io.TextIOWrapper name='debug.log' mode='r' encoding='cp1252'>"
      ]
     },
     "execution_count": 2,
     "metadata": {},
     "output_type": "execute_result"
    }
   ],
   "source": [
    "fp"
   ]
  },
  {
   "cell_type": "code",
   "execution_count": 3,
   "id": "occasional-victorian",
   "metadata": {},
   "outputs": [
    {
     "data": {
      "text/plain": [
       "(True, 'cp1252')"
      ]
     },
     "execution_count": 3,
     "metadata": {},
     "output_type": "execute_result"
    }
   ],
   "source": [
    "fp.closed, fp.encoding"
   ]
  },
  {
   "cell_type": "code",
   "execution_count": 4,
   "id": "possible-portland",
   "metadata": {},
   "outputs": [
    {
     "ename": "ValueError",
     "evalue": "I/O operation on closed file.",
     "output_type": "error",
     "traceback": [
      "\u001b[1;31m---------------------------------------------------------------------------\u001b[0m",
      "\u001b[1;31mValueError\u001b[0m                                Traceback (most recent call last)",
      "\u001b[1;32m<ipython-input-4-132011e948ad>\u001b[0m in \u001b[0;36m<module>\u001b[1;34m\u001b[0m\n\u001b[1;32m----> 1\u001b[1;33m \u001b[0mfp\u001b[0m\u001b[1;33m.\u001b[0m\u001b[0mread\u001b[0m\u001b[1;33m(\u001b[0m\u001b[1;36m60\u001b[0m\u001b[1;33m)\u001b[0m\u001b[1;33m\u001b[0m\u001b[1;33m\u001b[0m\u001b[0m\n\u001b[0m",
      "\u001b[1;31mValueError\u001b[0m: I/O operation on closed file."
     ]
    }
   ],
   "source": [
    "fp.read(60)"
   ]
  },
  {
   "cell_type": "code",
   "execution_count": 60,
   "id": "moderate-lindsay",
   "metadata": {},
   "outputs": [
    {
     "name": "stdout",
     "output_type": "stream",
     "text": [
      "pordwonS dna yttiK ,ecilA\n",
      "YKCOWREBBAJ\n",
      "JABBERWOCKY\n",
      "Back to normal.\n"
     ]
    }
   ],
   "source": [
    "class LookingGlass:\n",
    "    def __enter__(self):\n",
    "        import sys\n",
    "        self.original_write = sys.stdout.write\n",
    "        sys.stdout.write = self.reverse_write\n",
    "        return 'JABBERWOCKY'\n",
    "    \n",
    "    def reverse_write(self, text):\n",
    "        self.original_write(text[::-1])\n",
    "        \n",
    "    def __exit__(self, exc_type, exc_value, traceback):\n",
    "        import sys\n",
    "        sys.stdout.write = self.original_write\n",
    "        if exc_type is ZeroDivisionError:\n",
    "            print('Please DO NOT divide by zero!')\n",
    "            return True\n",
    "\n",
    "with LookingGlass() as what:\n",
    "    print('Alice, Kitty and Snowdrop')\n",
    "    print(what)\n",
    "print(what)\n",
    "print('Back to normal.')"
   ]
  },
  {
   "cell_type": "code",
   "execution_count": 75,
   "id": "dried-registrar",
   "metadata": {},
   "outputs": [
    {
     "name": "stdout",
     "output_type": "stream",
     "text": [
      "pordwonS dna yttiK ,ecilA\n",
      "YKCOWREBBAJ\n",
      "JABBERWOCKY\n",
      "Back to normal.\n"
     ]
    }
   ],
   "source": [
    "with LookingGlass() as what:\n",
    "    print('Alice, Kitty and Snowdrop')\n",
    "    print(what)\n",
    "print(what)\n",
    "print('Back to normal.')"
   ]
  },
  {
   "cell_type": "code",
   "execution_count": 41,
   "id": "fifty-nirvana",
   "metadata": {},
   "outputs": [
    {
     "name": "stdout",
     "output_type": "stream",
     "text": [
      "<__main__.LookingGlass object at 0x0000023776CE9080>\n",
      "eurT\n",
      "YKCOWREBBAJ\n",
      ">0809EC6773200000x0 ta tcejbo ssalGgnikooL.__niam__<\n"
     ]
    },
    {
     "data": {
      "text/plain": [
       "'JABBERWOCKY'"
      ]
     },
     "execution_count": 41,
     "metadata": {},
     "output_type": "execute_result"
    }
   ],
   "source": [
    "manager = LookingGlass()\n",
    "print(manager)\n",
    "monster = manager.__enter__()\n",
    "print(monster == 'JABBERWOCKY')\n",
    "print(monster)\n",
    "print(manager)\n",
    "manager.__exit__(None, None, None)\n",
    "monster"
   ]
  },
  {
   "cell_type": "code",
   "execution_count": 40,
   "id": "through-brick",
   "metadata": {},
   "outputs": [
    {
     "data": {
      "text/plain": [
       "True"
      ]
     },
     "execution_count": 40,
     "metadata": {},
     "output_type": "execute_result"
    }
   ],
   "source": [
    "monster = manager.__enter__()\n",
    "monster == 'JABBERWOCKY'"
   ]
  },
  {
   "cell_type": "code",
   "execution_count": 31,
   "id": "planned-today",
   "metadata": {},
   "outputs": [
    {
     "data": {
      "text/plain": [
       "'JABBERWOCKY'"
      ]
     },
     "execution_count": 31,
     "metadata": {},
     "output_type": "execute_result"
    }
   ],
   "source": [
    "monster"
   ]
  },
  {
   "cell_type": "code",
   "execution_count": 44,
   "id": "prescribed-georgia",
   "metadata": {},
   "outputs": [],
   "source": [
    "import contextlib\n",
    "@contextlib.contextmanager\n",
    "def looking_glass():\n",
    "    import sys\n",
    "    original_write = sys.stdout.write\n",
    "    \n",
    "    def reverse_write(text):\n",
    "        original_write(text[::-1])\n",
    "        \n",
    "    sys.stdout.write = reverse_write\n",
    "    msg = ''\n",
    "    try:\n",
    "        yield 'JABBERWOCKY'\n",
    "    except ZeroDivisionError:\n",
    "        msg = 'Please DO NOT divide by zero！'\n",
    "    finally:\n",
    "        sys.stdout.write = original_write\n",
    "        if msg:\n",
    "            print(msg)\n",
    "    "
   ]
  },
  {
   "cell_type": "code",
   "execution_count": 45,
   "id": "configured-trigger",
   "metadata": {},
   "outputs": [
    {
     "name": "stdout",
     "output_type": "stream",
     "text": [
      "pordwonS dna yttiK ,ecilA\n",
      "YKCOWREBBAJ\n"
     ]
    },
    {
     "data": {
      "text/plain": [
       "'JABBERWOCKY'"
      ]
     },
     "execution_count": 45,
     "metadata": {},
     "output_type": "execute_result"
    }
   ],
   "source": [
    "with looking_glass() as what:\n",
    "    print('Alice, Kitty and Snowdrop')\n",
    "    print(what)\n",
    "what"
   ]
  },
  {
   "cell_type": "code",
   "execution_count": 53,
   "id": "curious-chester",
   "metadata": {},
   "outputs": [],
   "source": [
    "my_list = ['apple', 'banana']\n",
    "for item in my_list:\n",
    "    if item == 'banana':\n",
    "        break\n",
    "else:\n",
    "    raise ValueError('No banana flavor found!')"
   ]
  },
  {
   "cell_type": "code",
   "execution_count": null,
   "id": "rocky-cleaners",
   "metadata": {},
   "outputs": [],
   "source": []
  },
  {
   "cell_type": "markdown",
   "id": "lined-monkey",
   "metadata": {},
   "source": [
    "# 上下文管理器和else块\n",
    "\n",
    "## if 语句之外的else块\n",
    "- for···else···\n",
    "\n",
    "for运行完毕时才运行else块\n",
    "\n",
    "```python\n",
    "my_list = ['apple']\n",
    "for item in my_list:\n",
    "    if item == 'banana':\n",
    "        break\n",
    "else:\n",
    "    raise ValueError('No banana flavor found!')\n",
    "```\n",
    "\n",
    "- while···else···：仅当while循环因为条件为假值而退出时才运行else块\n",
    "\n",
    "- try···except··else···：仅当try块中没有异常抛出时才运行else块\n",
    "\n",
    "```python\n",
    "try:\n",
    "    dangerous_call()\n",
    "except OSError:\n",
    "    log('OSError')\n",
    "else:\n",
    "    after_call() # 没有抛出异常才运行\n",
    "```\n",
    "\n",
    "## 上下文管理器与with\n",
    "\n",
    "上下文管理器对象存在的目的是管理with语句\n",
    "\n",
    "上下文管理器协议包含__enter__和__exit__方法，with语句开始运行时，调用__enter__方法，with运行结束时调用__exit__方法\n",
    "\n",
    "- 确保关闭文件对象\n",
    "\n",
    "```python\n",
    "with open('debug.log') as fp:\n",
    "    src = fp.read(60)\n",
    "len(src)\n",
    "fp\n",
    "fp.closed, fp.encoding\n",
    "fp.read(60) # 文件对象已经关闭，不能在fp上执行I/O操作\n",
    "```\n",
    "\n",
    "- 上下文管理器\n",
    "\n",
    "```python\n",
    "class LookingGlass:\n",
    "    def __enter__(self):\n",
    "        import sys\n",
    "        self.original_write = sys.stdout.write\n",
    "        sys.stdout.write = self.reverse_write\n",
    "        return 'JABBERWOCKY'\n",
    "    \n",
    "    def reverse_write(self, text):\n",
    "        self.original_write(text[::-1])\n",
    "        \n",
    "    def __exit__(self, exc_type, exc_value, traceback):\n",
    "        import sys\n",
    "        sys.stdout.write = self.original_write\n",
    "        if exc_type is ZeroDivisionError:\n",
    "            print('Please DO NOT divide by zero!')\n",
    "            return True\n",
    "```\n",
    "\n",
    "测试\n",
    "\n",
    "```python\n",
    "with LookingGlass() as what:\n",
    "    print('Alice, Kitty and Snowdrop') # 在上下文管理器中调用__enter__方法，将字符串倒置\n",
    "    print(what)\n",
    "# 上下文管理器关闭LookingGlass后调用__exit__方法，将倒置字符还原\n",
    "print(what)\n",
    "print('Back to normal.')\n",
    "```\n",
    "\n",
    "### 使用生成器实现的上下文管理器\n",
    "\n",
    "```python\n",
    "import contextlib\n",
    "\n",
    "@contextlib.contextmanager\n",
    "def looking_glass():\n",
    "    import sys\n",
    "    original_write = sys.stdout.write # 保留原理的输出\n",
    "    \n",
    "    def reverse_write():\n",
    "        original_write(text[::-1])\n",
    "        \n",
    "    sys.stdout.write = reverse_write\n",
    "    msg = ''\n",
    "    try:\n",
    "        yield 'JABBERWOCKY'\n",
    "    except ZeroDivisionError:\n",
    "        msg = 'Please DO NOT divide by zero!'\n",
    "    finally:\n",
    "        sys.stdout.write = original_write\n",
    "        if msg:\n",
    "            print(msg)\n",
    "```\n",
    "\n",
    "## 总结\n",
    "\n",
    "- 补充了else块在for、while和try中的使用\n",
    "- 上下文管理器的使用和实现的__enter__和__exit__方法\n",
    "- 使用生成器优化上下文管理器\n",
    "\n",
    "> 流程的Python"
   ]
  },
  {
   "cell_type": "code",
   "execution_count": null,
   "id": "preceding-absolute",
   "metadata": {},
   "outputs": [],
   "source": []
  }
 ],
 "metadata": {
  "kernelspec": {
   "display_name": "Python 3",
   "language": "python",
   "name": "python3"
  },
  "language_info": {
   "codemirror_mode": {
    "name": "ipython",
    "version": 3
   },
   "file_extension": ".py",
   "mimetype": "text/x-python",
   "name": "python",
   "nbconvert_exporter": "python",
   "pygments_lexer": "ipython3",
   "version": "3.7.2"
  }
 },
 "nbformat": 4,
 "nbformat_minor": 5
}
